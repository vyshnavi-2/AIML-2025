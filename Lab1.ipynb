{
  "nbformat": 4,
  "nbformat_minor": 0,
  "metadata": {
    "colab": {
      "provenance": [],
      "authorship_tag": "ABX9TyMQgC5qWD1OgJe1/SjLKgBv",
      "include_colab_link": true
    },
    "kernelspec": {
      "name": "python3",
      "display_name": "Python 3"
    },
    "language_info": {
      "name": "python"
    }
  },
  "cells": [
    {
      "cell_type": "markdown",
      "metadata": {
        "id": "view-in-github",
        "colab_type": "text"
      },
      "source": [
        "<a href=\"https://colab.research.google.com/github/vyshnavi-2/AIML-2025/blob/main/Lab1.ipynb\" target=\"_parent\"><img src=\"https://colab.research.google.com/assets/colab-badge.svg\" alt=\"Open In Colab\"/></a>"
      ]
    },
    {
      "cell_type": "code",
      "execution_count": null,
      "metadata": {
        "id": "buXA7hBWkgiN"
      },
      "outputs": [],
      "source": []
    },
    {
      "cell_type": "markdown",
      "source": [
        "## Lab-01:Introduction to Python,Matplotlib,Numpy ##"
      ],
      "metadata": {
        "id": "WmR9L3Mil61O"
      }
    },
    {
      "cell_type": "markdown",
      "source": [
        "## Part 01: Lab Task is implement the following data structures using Numpy and Pandas.##"
      ],
      "metadata": {
        "id": "ljw89qtqmacc"
      }
    },
    {
      "cell_type": "code",
      "source": [
        "import numpy as np\n",
        "import matplotlib.pyplot as plt\n",
        "import pandas as pd"
      ],
      "metadata": {
        "id": "Xr_XOFyFmuJW"
      },
      "execution_count": 5,
      "outputs": []
    },
    {
      "cell_type": "code",
      "source": [
        "list1=[1,2,3,4]\n",
        "array1=np.array(list1)\n",
        "array1\n",
        "array2=np.array([1,2,3,4])\n",
        "list1,array1,array2"
      ],
      "metadata": {
        "colab": {
          "base_uri": "https://localhost:8080/"
        },
        "id": "Xy8hUNIInTT7",
        "outputId": "5419eb60-3b2a-4d86-defe-e6c5bf8d8810"
      },
      "execution_count": 6,
      "outputs": [
        {
          "output_type": "execute_result",
          "data": {
            "text/plain": [
              "([1, 2, 3, 4], array([1, 2, 3, 4]), array([1, 2, 3, 4]))"
            ]
          },
          "metadata": {},
          "execution_count": 6
        }
      ]
    },
    {
      "cell_type": "code",
      "source": [
        "## Identify the type of data structure\n",
        "type(list1),type(array1),type(array2)"
      ],
      "metadata": {
        "colab": {
          "base_uri": "https://localhost:8080/"
        },
        "id": "RIquf0qvpVYd",
        "outputId": "7822e63a-315a-4aee-ecbe-417ea7d3571a"
      },
      "execution_count": 7,
      "outputs": [
        {
          "output_type": "execute_result",
          "data": {
            "text/plain": [
              "(list, numpy.ndarray, numpy.ndarray)"
            ]
          },
          "metadata": {},
          "execution_count": 7
        }
      ]
    },
    {
      "cell_type": "code",
      "source": [
        "##Perform mathematical operations on arrays,lists\n",
        "print(\"Adding two arrays:array1+array2\")\n",
        "print(\"Multiplying two arrays:array1*array2\")\n",
        "print(\"Subtracting two arrays:array1-array2\")\n",
        "print(\"Dividing two arrays:array1/array2\")\n",
        "print(\"Exponentiating two arrays:array1**array2\")\n",
        "print(\"Multiply array to list:array2*list1\")"
      ],
      "metadata": {
        "colab": {
          "base_uri": "https://localhost:8080/"
        },
        "id": "47wKZf4yqXa0",
        "outputId": "0d94553d-cf4b-4c90-ce73-9feca1385b2b"
      },
      "execution_count": 9,
      "outputs": [
        {
          "output_type": "stream",
          "name": "stdout",
          "text": [
            "Adding two arrays:array1+array2\n",
            "Multiplying two arrays:array1*array2\n",
            "Subtracting two arrays:array1-array2\n",
            "Dividing two arrays:array1/array2\n",
            "Exponentiating two arrays:array1**array2\n",
            "Multiply array to list:array2*list1\n"
          ]
        }
      ]
    },
    {
      "cell_type": "code",
      "source": [
        "print(\"Sine value of array1:{np.sin(array1)}\")\n",
        "print(\"Log value of array1:{np.log(array1)}\")\n",
        "print(\"Log base 2 value of array1:{np.log2(array1)}\")\n",
        "print(\"Log base 10 value of array1:{np.log10(array1)}\")\n",
        "print(\"Exponential value of array1:{np.exp(array1)}\")"
      ],
      "metadata": {
        "colab": {
          "base_uri": "https://localhost:8080/"
        },
        "id": "KfEeQPe6rnZq",
        "outputId": "01bfc800-e56f-401a-8017-bef7f355392c"
      },
      "execution_count": 10,
      "outputs": [
        {
          "output_type": "stream",
          "name": "stdout",
          "text": [
            "Sine value of array1:{np.sin(array1)}\n",
            "Log value of array1:{np.log(array1)}\n",
            "Log base 2 value of array1:{np.log2(array1)}\n",
            "Log base 10 value of array1:{np.log10(array1)}\n",
            "Exponential value of array1:{np.exp(array1)}\n"
          ]
        }
      ]
    },
    {
      "cell_type": "code",
      "source": [],
      "metadata": {
        "id": "_SRyQwo0sc35"
      },
      "execution_count": null,
      "outputs": []
    }
  ]
}